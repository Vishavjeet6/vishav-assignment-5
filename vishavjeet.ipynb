{
 "cells": [
  {
   "cell_type": "code",
   "execution_count": null,
   "metadata": {},
   "outputs": [],
   "source": [
    "import pandas as pd\n",
    "import matplotlib.pyplot as plt\n",
    "import numpy as np"
   ]
  },
  {
   "cell_type": "code",
   "execution_count": null,
   "metadata": {},
   "outputs": [],
   "source": [
    "%matplotlib inline"
   ]
  },
  {
   "cell_type": "code",
   "execution_count": null,
   "metadata": {},
   "outputs": [],
   "source": [
    "plt.style.use('fivethirtyeight')"
   ]
  },
  {
   "cell_type": "code",
   "execution_count": null,
   "metadata": {},
   "outputs": [],
   "source": [
    "df = pd.read_csv('data.csv')"
   ]
  },
  {
   "cell_type": "markdown",
   "metadata": {},
   "source": [
    "# Cleaning "
   ]
  },
  {
   "cell_type": "code",
   "execution_count": null,
   "metadata": {},
   "outputs": [],
   "source": [
    "df.drop(['time_period','time_period_type'],axis=1,inplace= True)"
   ]
  },
  {
   "cell_type": "markdown",
   "metadata": {},
   "source": [
    "# 1. Show data field code 'AR0005' values for 'Argentina-Catamarca' for entire duration\n",
    " "
   ]
  },
  {
   "cell_type": "code",
   "execution_count": null,
   "metadata": {},
   "outputs": [],
   "source": [
    "df_new = df[(df.location=='Argentina-Catamarca') & (df.data_field_code=='AR0005')]"
   ]
  },
  {
   "cell_type": "markdown",
   "metadata": {},
   "source": [
    "# Values "
   ]
  },
  {
   "cell_type": "code",
   "execution_count": null,
   "metadata": {},
   "outputs": [],
   "source": [
    "df_new.value"
   ]
  },
  {
   "cell_type": "code",
   "execution_count": null,
   "metadata": {
    "scrolled": true
   },
   "outputs": [],
   "source": [
    "df_new.report_date=pd.to_datetime(df_new.report_date)\n",
    "df_new.value=pd.to_numeric(df_new.value)"
   ]
  },
  {
   "cell_type": "code",
   "execution_count": null,
   "metadata": {
    "scrolled": true
   },
   "outputs": [],
   "source": [
    "df_new.plot('report_date','value')\n",
    "plt.title('Data Field code AR0005 values for Argentina-Catamarca ')\n",
    "plt.ylabel('Values')\n",
    "plt.xlabel('Duration')\n",
    "plt.show()"
   ]
  },
  {
   "cell_type": "markdown",
   "metadata": {},
   "source": [
    "# 2. Plot 'Argentina-CABA' and 'Argentina-Catamarca' for number of cases values for entire duration to identify the difference "
   ]
  },
  {
   "cell_type": "code",
   "execution_count": null,
   "metadata": {},
   "outputs": [],
   "source": [
    "df_2 = df[((df.location=='Argentina-CABA') | (df.location=='Argentina-Catamarca')) & (df.unit=='cases') ]"
   ]
  },
  {
   "cell_type": "code",
   "execution_count": null,
   "metadata": {},
   "outputs": [],
   "source": [
    "#df_2.report_date = pd.to_datetime(df_2.report_date)\n",
    "df_2.value = pd.to_numeric(df_2.value)"
   ]
  },
  {
   "cell_type": "code",
   "execution_count": null,
   "metadata": {},
   "outputs": [],
   "source": [
    "df_2.drop(['location_type', 'data_field', 'data_field_code', 'unit'],axis=1,inplace=True)"
   ]
  },
  {
   "cell_type": "code",
   "execution_count": null,
   "metadata": {},
   "outputs": [],
   "source": [
    "df_2 = df_2.pivot_table(index='report_date',columns='location',aggfunc=sum)"
   ]
  },
  {
   "cell_type": "code",
   "execution_count": null,
   "metadata": {},
   "outputs": [],
   "source": [
    "df_2"
   ]
  },
  {
   "cell_type": "code",
   "execution_count": null,
   "metadata": {
    "scrolled": true
   },
   "outputs": [],
   "source": [
    "fig, ax = plt.subplots(figsize=(15,7))\n",
    "plt.title('Values for entire duration to identify the difference')\n",
    "plt.ylabel(\"Value\")\n",
    "df_2.plot(kind='bar',ax=ax,rot=30)\n",
    "plt.show()"
   ]
  },
  {
   "cell_type": "markdown",
   "metadata": {},
   "source": [
    "# Entire Difference "
   ]
  },
  {
   "cell_type": "code",
   "execution_count": null,
   "metadata": {},
   "outputs": [],
   "source": [
    "df_2.sum(axis=0).plot(kind='bar',color=['r','g'],rot=0)\n",
    "plt.title('Total Difference')\n",
    "plt.xlabel('Location')\n",
    "plt.ylabel('Value')\n",
    "plt.legend(loc=(1,1))\n",
    "plt.show()"
   ]
  },
  {
   "cell_type": "markdown",
   "metadata": {},
   "source": [
    "# 3. Plot how data field values are distributed across the locations 'Argentina-Buenos_Aires', 'Argentina-CABA', 'Argentina-Catamarca'\n"
   ]
  },
  {
   "cell_type": "code",
   "execution_count": null,
   "metadata": {},
   "outputs": [],
   "source": [
    "df3 = df[(df.location=='Argentina-CABA') | (df.location=='Argentina-Catamarca') | (df.location=='Argentina-Buenos_Aires')]"
   ]
  },
  {
   "cell_type": "code",
   "execution_count": null,
   "metadata": {},
   "outputs": [],
   "source": [
    "df3.report_date = pd.to_datetime(df3.report_date)\n",
    "df3.value = pd.to_numeric(df3.value)"
   ]
  },
  {
   "cell_type": "code",
   "execution_count": null,
   "metadata": {},
   "outputs": [],
   "source": [
    "df3.drop(['location_type', 'data_field_code', 'unit'],axis=1,inplace=True)"
   ]
  },
  {
   "cell_type": "code",
   "execution_count": null,
   "metadata": {},
   "outputs": [],
   "source": [
    "df3l = df3.pivot_table(index='report_date',columns='location',aggfunc=sum)\n",
    "df3d = df3.pivot_table(index='location',columns='data_field',aggfunc=sum)"
   ]
  },
  {
   "cell_type": "code",
   "execution_count": null,
   "metadata": {},
   "outputs": [],
   "source": [
    "vals=df3d.iloc[:].values\n",
    "vals = np.reshape(vals,(1,18))\n",
    "v = vals[(vals != 0)]"
   ]
  },
  {
   "cell_type": "code",
   "execution_count": null,
   "metadata": {},
   "outputs": [],
   "source": [
    "plt.figure(figsize=(7,7))\n",
    "df3l.sum(axis=0).plot(kind='pie',autopct=\"%1.1f%%\",labels=df3.location.unique(),legend=True)\n",
    "plt.ylabel(\"\")\n",
    "plt.title(\"Values Distributed Across Location\")\n",
    "plt.legend(loc=(1.5,1))\n",
    "plt.show()"
   ]
  },
  {
   "cell_type": "code",
   "execution_count": null,
   "metadata": {},
   "outputs": [],
   "source": [
    "df3d.sum(axis=0).plot(kind='pie',autopct=\"%1.1f%%\",labels=df3.data_field.unique(),radius=1.6,legend=True)\n",
    "plt.ylabel(\"\")\n",
    "plt.title(\"Values Distributed Across Data-field\").set_position([0.3,1.5])\n",
    "plt.legend(loc=(1.2,1))\n",
    "plt.show()"
   ]
  },
  {
   "cell_type": "markdown",
   "metadata": {},
   "source": [
    "#   \"Data Field Values Distributed Across the Locations\""
   ]
  },
  {
   "cell_type": "code",
   "execution_count": null,
   "metadata": {},
   "outputs": [],
   "source": [
    "fig, ax = plt.subplots()\n",
    "\n",
    "size = 0.7\n",
    "\n",
    "cmap = plt.get_cmap(\"tab20c\")\n",
    "outer_colors = cmap(np.arange(3)*4)\n",
    "inner_colors = cmap(np.array([11,17,13,15,11,12,13,17]))\n",
    "ax.pie(df3l.sum(axis=0), radius=3, colors=outer_colors,labels=['Argentina-Buenos_Aires','Argentina-CABA','Argentina-Catamarca'],\n",
    "       wedgeprops=dict(width=size, edgecolor='w'),startangle=90)\n",
    "plt.title(\"Data Field Values\\n Distributed Across\\n the Locations\",loc='center').set_position([0.5,0.5])\n",
    "ax.pie(v, radius=3-size, colors=inner_colors,\n",
    "       wedgeprops=dict(width=size, edgecolor='w'),startangle=90)\n",
    "ax.legend(['Argentina-Buenos_Aires','Argentina-CABA','Argentina-Catamarca',\n",
    "           'ccd','ccus','ccic','cpic','ccd','ccus','ccic','ccus'],loc=(2,1))\n",
    "ax.set(aspect=\"equal\")\n",
    "plt.show()"
   ]
  },
  {
   "cell_type": "markdown",
   "metadata": {},
   "source": [
    "# Location Values Distributed Across Datafields"
   ]
  },
  {
   "cell_type": "code",
   "execution_count": null,
   "metadata": {},
   "outputs": [],
   "source": [
    "fig, ax = plt.subplots()\n",
    "\n",
    "size = 0.7\n",
    "\n",
    "cmap = plt.get_cmap(\"tab20c\")\n",
    "outer_colors = cmap(np.arange(3)*4)\n",
    "inner_colors = cmap(np.array([11,17,13,15,11,12,13,17]))\n",
    "\n",
    "plt.title(\"Location Values\\n Distributed Across\\n Datafields\",loc='center').set_position([0.5,0.5])\n",
    "ax.pie(v, radius=3, colors=inner_colors,\n",
    "       wedgeprops=dict(width=size, edgecolor='w'),startangle=90)\n",
    "ax.pie(df3l.sum(axis=0), radius=3-size, colors=outer_colors,\n",
    "       wedgeprops=dict(width=size, edgecolor='w'),startangle=90)\n",
    "ax.legend(['ccd','ccus','ccic','cpic','ccd','ccus','ccic','ccus',\n",
    "          'Argentina-Buenos_Aires','Argentina-CABA','Argentina-Catamarca'],loc=(2,1))\n",
    "ax.set(aspect=\"equal\")\n",
    "plt.show()"
   ]
  },
  {
   "cell_type": "markdown",
   "metadata": {},
   "source": [
    "# 4. Build a program to predict the correct word for wrongly typed word."
   ]
  },
  {
   "cell_type": "code",
   "execution_count": null,
   "metadata": {},
   "outputs": [],
   "source": [
    "import re\n",
    "from collections import Counter\n",
    "\n",
    "def words(text):\n",
    "    return re.findall(r'\\w+', text.lower())\n",
    "\n",
    "WORDS = Counter(words(open('big.txt').read()))\n",
    "\n",
    "def P(word, N=sum(WORDS.values())): \n",
    "    return WORDS[word] / N\n",
    "\n",
    "def correction(word): \n",
    "    return max(candidates(word), key=P)\n",
    "\n",
    "def candidates(word): \n",
    "    return (known([word]) or known(edits1(word)) or known(edits2(word)) or [word])\n",
    "\n",
    "def known(words): \n",
    "    return set(w for w in words if w in WORDS)\n",
    "\n",
    "def edits1(word):\n",
    "    letters    = 'abcdefghijklmnopqrstuvwxyz'\n",
    "    splits     = [(word[:i], word[i:])    for i in range(len(word) + 1)]\n",
    "    deletes    = [L + R[1:]               for L, R in splits if R]\n",
    "    transposes = [L + R[1] + R[0] + R[2:] for L, R in splits if len(R)>1]\n",
    "    replaces   = [L + c + R[1:]           for L, R in splits if R for c in letters]\n",
    "    inserts    = [L + c + R               for L, R in splits for c in letters]\n",
    "    return set(deletes + transposes + replaces + inserts)\n",
    "\n",
    "def edits2(word): \n",
    "    return (e2 for e1 in edits1(word) for e2 in edits1(e1))\n",
    "\n",
    "\n",
    "s = input()\n",
    "print(\"The correct word is :\",correction(s))\n"
   ]
  }
 ],
 "metadata": {
  "kernelspec": {
   "display_name": "Python 3",
   "language": "python",
   "name": "python3"
  },
  "language_info": {
   "codemirror_mode": {
    "name": "ipython",
    "version": 3
   },
   "file_extension": ".py",
   "mimetype": "text/x-python",
   "name": "python",
   "nbconvert_exporter": "python",
   "pygments_lexer": "ipython3",
   "version": "3.7.3"
  }
 },
 "nbformat": 4,
 "nbformat_minor": 2
}
